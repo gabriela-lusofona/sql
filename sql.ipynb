{
 "cells": [
  {
   "cell_type": "markdown",
   "source": [
    "# SQL\n",
    "\n",
    "## Configuração do Ambiente\n",
    "\n",
    "Precisamos \"subir\" o container com o postgres e carregar os dados na base.\n",
    "Vocês já fizeram isso no projeto 2 usando um script.\n",
    "Aqui vamos fazer usando a linha de comando do container.\n",
    "\n",
    "Primeiro criamos o container:\n",
    "`docker-compose -f docker-compose.yml up`\n",
    "\n",
    "Primeiro verifiquem o nome do container usando o comando:\n",
    "`docker ps`\n",
    "\n",
    "Depois usamos o nome do container para \"entrar\" na linha de comando do container:\n",
    "`docker exec -it database bash`\n",
    "\n",
    "Verifiquem se a pasta `data` dentro do container tem os arquivos necessários.\n",
    "Caso não tenha, execute os comandos abaixo:\n",
    "\n",
    "```\n",
    "docker cp ./data/wheater_stations.sql database:/data/weather_stations.sql\n",
    "docker cp ./data/surgetech_conference.sql database:/data/surgetech_conference.sql\n",
    "docker cp ./data/rexon_metals.sql database:/data/rexon_metals.sql\n",
    "docker cp ./data/extra_practice_database.sql database:/data/extra_practice_database.sql\n",
    "\n",
    "```\n",
    "Agora, vamos usar comandos de postgres para criar e povoar a base de dados.\n",
    "\n",
    "Primeiro, vamos apagar a base, para garantir que não temos resquícios de usos anteriores.\n",
    "\n",
    "`psql -U postgres -h localhost -c 'DROP DATABASE IF EXISTS rexon_metals'`\n",
    "\n",
    "E agora criamos a base de dados:\n",
    "\n",
    "`psql -U postgres -h localhost -c 'CREATE DATABASE rexon_metals'`\n",
    "\n",
    "Por fim, vamos povoar os dados na base de dados, usando o arquivo `weather_stations.sql`\n",
    "\n",
    "`psql -U postgres -h localhost -d rexon_metals -f data/rexon_metals.sql`"
   ],
   "metadata": {
    "collapsed": false
   }
  },
  {
   "cell_type": "markdown",
   "source": [
    "# Queries usando o jupyter"
   ],
   "metadata": {
    "collapsed": false
   }
  },
  {
   "cell_type": "code",
   "execution_count": null,
   "outputs": [],
   "source": [],
   "metadata": {
    "collapsed": false
   }
  }
 ],
 "metadata": {
  "kernelspec": {
   "display_name": "Python 3",
   "language": "python",
   "name": "python3"
  },
  "language_info": {
   "codemirror_mode": {
    "name": "ipython",
    "version": 2
   },
   "file_extension": ".py",
   "mimetype": "text/x-python",
   "name": "python",
   "nbconvert_exporter": "python",
   "pygments_lexer": "ipython2",
   "version": "2.7.6"
  }
 },
 "nbformat": 4,
 "nbformat_minor": 0
}
