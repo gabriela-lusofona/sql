{
 "cells": [
  {
   "cell_type": "markdown",
   "source": [
    "# SQL\n",
    "\n",
    "## Configuração do Ambiente\n",
    "\n",
    "Precisamos \"subir\" o container com o postgres e carregar os dados na base.\n",
    "Vocês já fizeram isso no projeto 2 usando um script.\n",
    "Aqui vamos fazer usando a linha de comando do container.\n",
    "\n",
    "Primeiro criamos o container:\n",
    "`docker-compose -f docker-compose.yml up`\n",
    "\n",
    "Primeiro verifiquem o nome do container usando o comando:\n",
    "`docker ps`\n",
    "\n",
    "Depois usamos o nome do container para \"entrar\" na linha de comando do container:\n",
    "`docker exec -it database bash`\n",
    "\n",
    "Agora, vamos usar comandos de postgres para criar e povoar a base de dados.\n",
    "\n",
    "Primeiro, vamos apagar a base, para garantir que não temos resquícios de usos anteriores.\n",
    "\n",
    "`psql -U postgres -h localhost -c 'DROP DATABASE IF EXISTS weather_stations'`\n",
    "\n",
    "E agora criamos a base de dados:\n",
    "\n",
    "`psql -U postgres -h localhost -c 'CREATE DATABASE weather_stations'`\n",
    "\n",
    "Por fim, vamos povoar os dados na base de dados, usando o arquivo `weather_stations.sql`\n",
    "\n",
    "`psql -U postgres -h localhost -d weather_stations -f data/weather_stations.sql`"
   ],
   "metadata": {
    "collapsed": false
   }
  },
  {
   "cell_type": "code",
   "execution_count": 2,
   "metadata": {
    "collapsed": true
   },
   "outputs": [
    {
     "name": "stdout",
     "output_type": "stream",
     "text": [
      "Base de dados exportada para data/weather_stations_postgres.sql\n"
     ]
    }
   ],
   "source": [
    "import sqlite3\n",
    "\n",
    "sqlite_file = \"data/weather_stations.db\"\n",
    "sql_export_file = \"data/weather_stations_postgres.sql\"\n",
    "\n",
    "def convert_to_postgres(sqlite_sql):\n",
    "    \"\"\"\n",
    "    Converte comandos SQL do SQLite para PostgreSQL.\n",
    "    \"\"\"\n",
    "    postgres_sql = sqlite_sql\n",
    "\n",
    "    # Ajuste para booleanos: substitua 1/0 por TRUE/FALSE\n",
    "    postgres_sql = postgres_sql.replace(\"1\", \"TRUE\").replace(\"0\", \"FALSE\")\n",
    "\n",
    "    # Remova aspas desnecessárias ao redor de nomes de tabelas ou colunas\n",
    "    postgres_sql = postgres_sql.replace('\"', '')\n",
    "\n",
    "    # Ajuste de outros casos específicos aqui se necessário\n",
    "    return postgres_sql\n",
    "\n",
    "connection = sqlite3.connect(sqlite_file)\n",
    "\n",
    "with open(sql_export_file, \"w\") as file:\n",
    "    # Iterar sobre os comandos de exportação SQL gerados pelo SQLite\n",
    "    for line in connection.iterdump():\n",
    "        postgres_line = convert_to_postgres(line)\n",
    "        file.write(f\"{postgres_line}\\n\")\n",
    "\n",
    "# Fechar a conexão\n",
    "connection.close()\n",
    "\n",
    "print(f\"Base de dados exportada para {sql_export_file}\")\n"
   ]
  },
  {
   "cell_type": "code",
   "execution_count": null,
   "outputs": [],
   "source": [],
   "metadata": {
    "collapsed": false
   }
  }
 ],
 "metadata": {
  "kernelspec": {
   "display_name": "Python 3",
   "language": "python",
   "name": "python3"
  },
  "language_info": {
   "codemirror_mode": {
    "name": "ipython",
    "version": 2
   },
   "file_extension": ".py",
   "mimetype": "text/x-python",
   "name": "python",
   "nbconvert_exporter": "python",
   "pygments_lexer": "ipython2",
   "version": "2.7.6"
  }
 },
 "nbformat": 4,
 "nbformat_minor": 0
}
